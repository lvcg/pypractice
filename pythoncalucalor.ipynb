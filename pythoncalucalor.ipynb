{
  "nbformat": 4,
  "nbformat_minor": 0,
  "metadata": {
    "colab": {
      "provenance": [],
      "authorship_tag": "ABX9TyMWe7feI49EoIbnQz/RVzUd",
      "include_colab_link": true
    },
    "kernelspec": {
      "name": "python3",
      "display_name": "Python 3"
    },
    "language_info": {
      "name": "python"
    }
  },
  "cells": [
    {
      "cell_type": "markdown",
      "metadata": {
        "id": "view-in-github",
        "colab_type": "text"
      },
      "source": [
        "<a href=\"https://colab.research.google.com/github/lvcg/pypractice/blob/main/pythoncalucalor.ipynb\" target=\"_parent\"><img src=\"https://colab.research.google.com/assets/colab-badge.svg\" alt=\"Open In Colab\"/></a>"
      ]
    },
    {
      "cell_type": "code",
      "execution_count": 2,
      "metadata": {
        "colab": {
          "base_uri": "https://localhost:8080/"
        },
        "id": "vZzbZSmE9iv9",
        "outputId": "f73e7d22-8216-402e-cd40-d4a63d33ea23"
      },
      "outputs": [
        {
          "output_type": "stream",
          "name": "stdout",
          "text": [
            "Select operation (+, -, *, /): *\n",
            "Enter first number: 6090\n",
            "Enter second number: 5764\n",
            "6090.0 * 5764.0 = 35102760.0\n",
            "Would you like to perform another calculation? (Y/N): y\n",
            "Select operation (+, -, *, /): / \n",
            "Enter first number: 4000\n",
            "Enter second number: 5764\n",
            "Invalid operation selected.\n"
          ]
        }
      ],
      "source": [
        "def calculator():\n",
        "    operation = input(\"Select operation (+, -, *, /): \")\n",
        "    num1 = float(input(\"Enter first number: \"))\n",
        "    num2 = float(input(\"Enter second number: \"))\n",
        "\n",
        "    if operation == \"+\":\n",
        "        result = num1 + num2\n",
        "    elif operation == \"-\":\n",
        "        result = num1 - num2\n",
        "    elif operation == \"*\":\n",
        "        result = num1 * num2\n",
        "    elif operation == \"/\":\n",
        "        result = num1 / num2\n",
        "    else:\n",
        "        print(\"Invalid operation selected.\")\n",
        "        return\n",
        "\n",
        "    print(f\"{num1} {operation} {num2} = {result}\")\n",
        "\n",
        "    repeat = input(\"Would you like to perform another calculation? (Y/N): \")\n",
        "    if repeat.upper() == \"Y\":\n",
        "        calculator()\n",
        "    else:\n",
        "        print(\"Calculator program ended.\")\n",
        "\n",
        "calculator()\n",
        "\n",
        "\n"
      ]
    },
    {
      "cell_type": "code",
      "source": [],
      "metadata": {
        "id": "hgdTpPr3ECgq"
      },
      "execution_count": null,
      "outputs": []
    }
  ]
}